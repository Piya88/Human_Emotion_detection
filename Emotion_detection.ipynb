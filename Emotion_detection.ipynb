{
  "cells": [
    {
      "cell_type": "markdown",
      "source": [
        "# Emotion_detection\n",
        "\n",
        "**Import necessary packages**\n",
        "\n"
      ],
      "metadata": {
        "id": "RRqJG3QNYlyo"
      }
    },
    {
      "cell_type": "code",
      "source": [
        "from tensorflow.python import keras\n",
        "from keras.models import load_model\n",
        "from keras.preprocessing.image import img_to_array\n",
        "from google.colab.patches import cv2_imshow # for colab\n",
        "from keras.preprocessing import image\n",
        "import cv2\n",
        "import matplotlib.pyplot as plt\n",
        "import numpy as np\n",
        "import PIL"
      ],
      "metadata": {
        "id": "sMnRrfeXZHF2"
      },
      "execution_count": null,
      "outputs": []
    },
    {
      "cell_type": "markdown",
      "source": [
        "# Load input video for prediction using opencv VideoCapture method"
      ],
      "metadata": {
        "id": "8JOpTzOJZXjV"
      }
    },
    {
      "cell_type": "code",
      "source": [
        "\n",
        "height = 768\n",
        "width = 576\n",
        "\n",
        "cap = cv2.VideoCapture('/content/drive/MyDrive/checkpoint/Emotion.mp4')\n",
        "#cap = cv2.VideoWriter('output.avi', cv.VideoWriter_fourcc(*'XVID'), 25, (320,240))\n",
        "\n",
        "cap.set(cv2.CAP_PROP_FRAME_HEIGHT, height)\n",
        "cap.set(cv2.CAP_PROP_FRAME_WIDTH, width)\n",
        "\n",
        "\n",
        "\n",
        "\n"
      ],
      "metadata": {
        "id": "dRoIH0FMYjPJ"
      },
      "execution_count": null,
      "outputs": []
    },
    {
      "cell_type": "markdown",
      "source": [
        "# Install necessary pacakge to write output video file"
      ],
      "metadata": {
        "id": "Z2hhTqluZoIW"
      }
    },
    {
      "cell_type": "code",
      "source": [
        "! add-apt-repository -y ppa:savoury1/ffmpeg4\n",
        "! apt-get -qq install -y ffmpeg"
      ],
      "metadata": {
        "colab": {
          "base_uri": "https://localhost:8080/"
        },
        "id": "PhQajbWJQ4Sc",
        "outputId": "bd4fd7e7-63fe-451a-a735-61981a4b6425"
      },
      "execution_count": null,
      "outputs": [
        {
          "output_type": "stream",
          "name": "stdout",
          "text": [
            "Repository: 'deb https://ppa.launchpadcontent.net/savoury1/ffmpeg4/ubuntu/ jammy main'\n",
            "Description:\n",
            "FFmpeg 4.4.4 builds (& associated multimedia packages) for Xenial & newer.\n",
            "\n",
            "*** Anyone interested in full builds of FFmpeg 4.4.x including all \"bells and whistles\" needs to have donated, after which access to the new private PPA can be requested. See my Launchpad page linked below for details. ***\n",
            "\n",
            "*** Please always see https://launchpad.net/~savoury1 for general updates about this Launchpad site before contacting me or reporting any bugs! ***\n",
            "\n",
            "*** Big thanks to all those who have donated to support this project, you are very directly helping to keep it alive! To all who have not donated: please do so if you can afford it, this project depends on donations. ***\n",
            "\n",
            "If software at this site is useful to you then please consider a donation:\n",
            "\n",
            "*** Donations: https://paypal.me/Savoury1 & https://ko-fi.com/Savoury1 ***\n",
            "*** Also https://patreon.com/Savoury1 & https://liberapay.com/Savoury1 ***\n",
            "\n",
            "Update (5 Apr 2023): FFmpeg 4.4 builds from today onwards are now generic, in that they are similar to current Ubuntu 22.04 Jammy FFmpeg builds. All of the dated updates below still apply to the FFmpeg 4.x builds available at a private \"subscriber only\" PPA (ppa:savoury1/ffmpeg) for supporters.\n",
            "\n",
            "Update (24 Jan 2023): FFmpeg 4.4 builds now have AMD AMF (Advanced Media Framework) support, using latest headers from AMF 1.4.29 (released today).\n",
            "\n",
            "Update (23 Oct 2022): FFmpeg 4.4 builds now have rav1e (new Rust-based AV1 encoder) support & are also built with nv-codec-headers 11.1.5.1 (latest).\n",
            "\n",
            "Update (6 Apr 2022): FFmpeg 4.4 builds now have Netflix VMAF support, with thanks to Frank B. (equal #1 patron of these PPAs) for suggesting/testing!\n",
            "\n",
            "Update (8 May 2021): FFmpeg 4.4 uploads from today onwards are built with these additional optional libraries: glslang (shader support), SVT-AV1 (scalable AV1 encoder), zimg (scaling, colorspace conversion, dithering), Vulkan (GPU acceleration on supported hardware), and SMB (Samba sharing).\n",
            "\n",
            "==========================================================================\n",
            "                   FFmpeg 4 - media tool (Xenial & newer)\n",
            "==========================================================================\n",
            "\n",
            "alsa-{lib,plugins,tools,topology-conf,ucm-conf,utils} (1.2.{5,6}), aom (3.8.2), aribb24 (1.0.3+git20160115), chafa (1.12.4), chromaprint (1.5.1), cjson (1.7.15), codec2 (1.2.0), cppzmq (4.9.0), dav1d (1.4.1), ffmpeg (4.4.4), ffms2 (2.23), flac (1.4.3), fluidsynth (2.3.4), fontconfig (2.13.1), freeglut (3.4.0), freetype (2.11.1), gmp (6.3.0), gnutls28 (3.7.3), gpac (2.0.0), gst-{libav,python}1.0 (1.22.10 for gst*), gst-plugins-{bad,base,good,ugly}1.0, gstreamer{-vaapi,1.0}, harfbuzz (8.0.1), ilmbase (3.1.10 = imath), intel-gmmlib (22.3.17), intel-media-driver{,-non-free} (24.1.5), intel-mediasdk (23.2.2), lensfun (0.3.3), libass (0.17.1), libavtp (0.2.0), libbluray (1.3.4), libbs2b (3.1.0), libcamera (0.2.0), libcdio (2.1.0), libcdio-paranoia (10.2+2.0.1), libdeflate (1.19), libdvdnav (6.1.1), libdvdread (6.1.3), libevent (2.1.12-stable), libffado (2.4.7), libfreeaptx (0.1.1), libgcrypt20 (1.10.3), libgsm (1.0.22), libinstpatch (1.1.6), liblc3 (1.0.1), libldac (2.0.2.3+git20200429), libmysofa (1.3.1), libnice (0.1.21), libopenaptx (0.2.0), libopenmpt (0.7.3), libpng1.6 (1.6.43), librabbitmq (0.11.0), libsdl2 (2.28.5), libshout (2.4.6), libsodium (1.0.21~git20231130), libsrtp2 (2.5.0), libssh (0.10.5), libtasn1-6 (4.18.0), libudfread (1.1.2), libunistring (1.0), libunwind (1.3.2), libva{-utils} (2.19.0), libvpx (1.13.1), libwebm (1.0.0.31), libwebp (1.3.2), libxfixes (6.0.0), libyaml (0.2.5), libyuv (0.0.1883), mbedtls (2.28.7), mpg123 (1.32.5), nettle (3.7.3), norm (1.5.9), openal-soft (1.22.2), opencore-amr (0.1.6), openexr (3.2.4), openfec (1.4.2.9), openh264 (2.4.1), openjpeg2 (2.5.0), opus (1.4), orc (0.4.34), pipewire (1.0.5), pipewire-media-session (0.4.2), qpwgraph (0.6.2), roc-toolkit (0.3.0), rubberband (3.1.2), sbc (2.0), snappy (1.1.10), sndio (1.9.0), soundtouch (2.3.2), speex{dsp} (1.2.1), srt (1.5.3), timgm6mb-soundfont, unbound (1.16.2), ust (2.13.4), vulkan-{headers,loader,tools} (1.3.275.0), wavpack (5.6.0), wireplumber (0.4.17), x264 (0.164.3153 = libx264-164), x265 (3.5 = libx265-199), zeromq3 (4.3.5), zimg (3.0.5), zlib (1.2.13), zvbi (0.2.42), zxing-cpp (2.2.1)\n",
            "\n",
            "Focal & Jammy: libdecor-0 (0.2.1 for libsdl2 >= 2.0.20)\n",
            "\n",
            "Focal only: libdbl-perl (1.19 = libdeflate / renamed source for i386)\n",
            "\n",
            "Bionic & Focal: snapd-glib (1.60 for PipeWire >= 1.0.1-1ubuntu3~)\n",
            "\n",
            "Xenial & Bionic: alsa-oss (1.1.8), alsa-plugins-extra (1.1.0), alsaequal (0.6), fftw3 (3.3.8), fribidi (1.0.8), glib2.0 (2.64.6), gobject-introspection (1.64.1), lcms2 (2.9), leptonlib (1.79.0), libgpg-error, libvidstab (1.1.0), p11-kit, tesseract (4.1.1), wayland-protocols (1.18), webrtc-audio-processing (0.3.1), wildmidi (0.4.3)\n",
            "\n",
            "Xenial only: autogen, curl, gcc-7 (7.5.0), glib2.0 (2.56.4), gobject-introspection (1.56.1), json-glib (1.4.2), lame (3.100), libidn2, libpsl, lm-sensors (3.6.0), mesa (18.0.5 rebuild for newer Wayland), nghttp2, openssl, pysimplesoap, python-{boto,httplib2,imaplib2} (compat with newer openssl), readline (7.0), unbound, wayland (1.16.0)\n",
            "\n",
            "==========================================================================\n",
            "\n",
            "*** Install ***\n",
            "\n",
            "FFmpeg can be installed from this PPA alone, as the required packages to satisfy minimum versions have been copied here (notify me if any missing). However, if _all_ newest versions of graphics and multimedia packages are desired then two additional PPAs can be added before installing FFmpeg:\n",
            "\n",
            "  sudo add-apt-repository ppa:savoury1/graphics\n",
            "  sudo add-apt-repository ppa:savoury1/multimedia\n",
            "  sudo add-apt-repository ppa:savoury1/ffmpeg4\n",
            "  sudo apt-get update\n",
            "  sudo apt-get upgrade && sudo apt-get dist-upgrade\n",
            "  sudo apt-get install ffmpeg\n",
            "\n",
            "Notes: GStreamer 1.20.x packages are copied here (ppa:savoury1/multimedia) as FFmpeg and GStreamer must both be built against the Debian SRT package version with renamed libsrt1.5-gnutls or they cannot both be installed at the same time. GStreamer is on basically every Ubuntu-based system so this means it is necessary to upgrade GStreamer packages when upgrading FFmpeg.\n",
            "\n",
            "Also, PipeWire 0.3.x packages are copied here from the multimedia PPA due PipeWire now being commonly used by various software. As the FFmpeg 4 PPA is required by numerous PPAs at this Launchpad site it makes the latest PipeWire readily available to all users. PipeWire is built with ALSA 1.2.2 minimum (Focal, backported to Xenial & Bionic) which is then required to run, so base ALSA packages are now also copied here for Xenial & Bionic.\n",
            "\n",
            "* Xenial systems: As of FFmpeg 4.3 the installation requires GCC >= 7 as the Intel-MediaSDK is enabled, with libmfx1 requiring GCC >= 7 (package fails to build with GCC 5.4.0). So GCC 7.5.0 (ppa:savoury1/toolchain) for Xenial has been copied here, making it easier to install FFmpeg 4.x on Xenial (so adding this FFmpeg 4 PPA will bring a few GCC 7.5.0 upgrades).\n",
            "\n",
            "* Focal systems: Builds of FFmpeg are now also available for i386 whereas they were not available initially. Launchpad does not build most packages for i386 architecture for Focal and newer series (Launchpad only builds i386 packages on a whitelist managed by the Launchpad team) including for dav1d and pocketsphinx, so these features are not enabled for Focal i386.\n",
            "\n",
            "*** Build ***\n",
            "\n",
            "This PPA has build dependencies on:\n",
            "\n",
            "  ppa:savoury1/build-tools\n",
            "  ppa:savoury1/backports\n",
            "  ppa:savoury1/fonts\n",
            "  ppa:savoury1/graphics\n",
            "  ppa:savoury1/multimedia\n",
            "\n",
            "Additionally, for Xenial builds only:\n",
            "\n",
            "  ppa:savoury1/perl-xenial\n",
            "\n",
            "*** Credits ***\n",
            "\n",
            "- Creators of FFmpeg: Michael Niedermayer and the entire FFmpeg team\n",
            "  https://github.com/FFmpeg/FFmpeg/graphs/contributors\n",
            "\n",
            "- Package code: Debian Multimedia Maintainers\n",
            "  https://tracker.debian.org/pkg/ffmpeg\n",
            "More info: https://launchpad.net/~savoury1/+archive/ubuntu/ffmpeg4\n",
            "Adding repository.\n",
            "Adding deb entry to /etc/apt/sources.list.d/savoury1-ubuntu-ffmpeg4-jammy.list\n",
            "Adding disabled deb-src entry to /etc/apt/sources.list.d/savoury1-ubuntu-ffmpeg4-jammy.list\n",
            "Adding key to /etc/apt/trusted.gpg.d/savoury1-ubuntu-ffmpeg4.gpg with fingerprint E996735927E427A733BB653E374C7797FB006459\n",
            "Get:1 https://cloud.r-project.org/bin/linux/ubuntu jammy-cran40/ InRelease [3,626 B]\n",
            "Get:2 https://developer.download.nvidia.com/compute/cuda/repos/ubuntu2204/x86_64  InRelease [1,581 B]\n",
            "Hit:3 http://archive.ubuntu.com/ubuntu jammy InRelease\n",
            "Get:4 http://archive.ubuntu.com/ubuntu jammy-updates InRelease [119 kB]\n",
            "Hit:5 http://archive.ubuntu.com/ubuntu jammy-backports InRelease\n",
            "Get:6 https://developer.download.nvidia.com/compute/cuda/repos/ubuntu2204/x86_64  Packages [811 kB]\n",
            "Get:7 http://security.ubuntu.com/ubuntu jammy-security InRelease [110 kB]\n",
            "Hit:8 https://ppa.launchpadcontent.net/c2d4u.team/c2d4u4.0+/ubuntu jammy InRelease\n",
            "Hit:9 https://ppa.launchpadcontent.net/deadsnakes/ppa/ubuntu jammy InRelease\n",
            "Get:10 http://archive.ubuntu.com/ubuntu jammy-updates/main amd64 Packages [2,019 kB]\n",
            "Hit:11 https://ppa.launchpadcontent.net/graphics-drivers/ppa/ubuntu jammy InRelease\n",
            "Get:12 https://ppa.launchpadcontent.net/savoury1/ffmpeg4/ubuntu jammy InRelease [18.1 kB]\n",
            "Get:13 http://archive.ubuntu.com/ubuntu jammy-updates/universe amd64 Packages [1,369 kB]\n",
            "Hit:14 https://ppa.launchpadcontent.net/ubuntugis/ppa/ubuntu jammy InRelease\n",
            "Get:15 http://archive.ubuntu.com/ubuntu jammy-updates/multiverse amd64 Packages [51.1 kB]\n",
            "Get:16 http://archive.ubuntu.com/ubuntu jammy-updates/restricted amd64 Packages [2,307 kB]\n",
            "Get:17 https://ppa.launchpadcontent.net/savoury1/ffmpeg4/ubuntu jammy/main amd64 Packages [91.3 kB]\n",
            "Get:18 http://security.ubuntu.com/ubuntu jammy-security/main amd64 Packages [1,739 kB]\n",
            "Get:19 http://security.ubuntu.com/ubuntu jammy-security/restricted amd64 Packages [2,228 kB]\n",
            "Get:20 http://security.ubuntu.com/ubuntu jammy-security/universe amd64 Packages [1,077 kB]\n",
            "Fetched 11.9 MB in 1min 23s (144 kB/s)\n",
            "Reading package lists... Done\n",
            "(Reading database ... 121752 files and directories currently installed.)\n",
            "Preparing to unpack .../00-libavformat-dev_7%3a4.4.4-0ubuntu1~22.04.sav1.1_amd64.deb ...\n",
            "Unpacking libavformat-dev:amd64 (7:4.4.4-0ubuntu1~22.04.sav1.1) over (7:4.4.2-0ubuntu0.22.04.1) ...\n",
            "Preparing to unpack .../01-libavcodec-dev_7%3a4.4.4-0ubuntu1~22.04.sav1.1_amd64.deb ...\n",
            "Unpacking libavcodec-dev:amd64 (7:4.4.4-0ubuntu1~22.04.sav1.1) over (7:4.4.2-0ubuntu0.22.04.1) ...\n",
            "Preparing to unpack .../02-libswresample-dev_7%3a4.4.4-0ubuntu1~22.04.sav1.1_amd64.deb ...\n",
            "Unpacking libswresample-dev:amd64 (7:4.4.4-0ubuntu1~22.04.sav1.1) over (7:4.4.2-0ubuntu0.22.04.1) ...\n",
            "Preparing to unpack .../03-ffmpeg_7%3a4.4.4-0ubuntu1~22.04.sav1.1_amd64.deb ...\n",
            "Unpacking ffmpeg (7:4.4.4-0ubuntu1~22.04.sav1.1) over (7:4.4.2-0ubuntu0.22.04.1) ...\n",
            "Preparing to unpack .../04-libavdevice58_7%3a4.4.4-0ubuntu1~22.04.sav1.1_amd64.deb ...\n",
            "Unpacking libavdevice58:amd64 (7:4.4.4-0ubuntu1~22.04.sav1.1) over (7:4.4.2-0ubuntu0.22.04.1) ...\n",
            "Preparing to unpack .../05-libavfilter7_7%3a4.4.4-0ubuntu1~22.04.sav1.1_amd64.deb ...\n",
            "Unpacking libavfilter7:amd64 (7:4.4.4-0ubuntu1~22.04.sav1.1) over (7:4.4.2-0ubuntu0.22.04.1) ...\n",
            "Preparing to unpack .../06-libavformat58_7%3a4.4.4-0ubuntu1~22.04.sav1.1_amd64.deb ...\n",
            "Unpacking libavformat58:amd64 (7:4.4.4-0ubuntu1~22.04.sav1.1) over (7:4.4.2-0ubuntu0.22.04.1) ...\n",
            "Preparing to unpack .../07-libavcodec58_7%3a4.4.4-0ubuntu1~22.04.sav1.1_amd64.deb ...\n",
            "Unpacking libavcodec58:amd64 (7:4.4.4-0ubuntu1~22.04.sav1.1) over (7:4.4.2-0ubuntu0.22.04.1) ...\n",
            "Preparing to unpack .../08-libswresample3_7%3a4.4.4-0ubuntu1~22.04.sav1.1_amd64.deb ...\n",
            "Unpacking libswresample3:amd64 (7:4.4.4-0ubuntu1~22.04.sav1.1) over (7:4.4.2-0ubuntu0.22.04.1) ...\n",
            "Preparing to unpack .../09-libpostproc55_7%3a4.4.4-0ubuntu1~22.04.sav1.1_amd64.deb ...\n",
            "Unpacking libpostproc55:amd64 (7:4.4.4-0ubuntu1~22.04.sav1.1) over (7:4.4.2-0ubuntu0.22.04.1) ...\n",
            "Preparing to unpack .../10-libswscale-dev_7%3a4.4.4-0ubuntu1~22.04.sav1.1_amd64.deb ...\n",
            "Unpacking libswscale-dev:amd64 (7:4.4.4-0ubuntu1~22.04.sav1.1) over (7:4.4.2-0ubuntu0.22.04.1) ...\n",
            "Preparing to unpack .../11-libswscale5_7%3a4.4.4-0ubuntu1~22.04.sav1.1_amd64.deb ...\n",
            "Unpacking libswscale5:amd64 (7:4.4.4-0ubuntu1~22.04.sav1.1) over (7:4.4.2-0ubuntu0.22.04.1) ...\n",
            "Preparing to unpack .../12-libavutil-dev_7%3a4.4.4-0ubuntu1~22.04.sav1.1_amd64.deb ...\n",
            "Unpacking libavutil-dev:amd64 (7:4.4.4-0ubuntu1~22.04.sav1.1) over (7:4.4.2-0ubuntu0.22.04.1) ...\n",
            "Preparing to unpack .../13-libavutil56_7%3a4.4.4-0ubuntu1~22.04.sav1.1_amd64.deb ...\n",
            "Unpacking libavutil56:amd64 (7:4.4.4-0ubuntu1~22.04.sav1.1) over (7:4.4.2-0ubuntu0.22.04.1) ...\n",
            "Preparing to unpack .../14-libsndio7.0_1.9.0-0.3~22.04.sav0_amd64.deb ...\n",
            "Unpacking libsndio7.0:amd64 (1.9.0-0.3~22.04.sav0) over (1.8.1-1.1) ...\n",
            "Selecting previously unselected package libsndio7:amd64.\n",
            "Preparing to unpack .../15-libsndio7_1.9.0-0.3~22.04.sav0_amd64.deb ...\n",
            "Unpacking libsndio7:amd64 (1.9.0-0.3~22.04.sav0) ...\n",
            "Selecting previously unselected package libfftw3-double3:amd64.\n",
            "Preparing to unpack .../16-libfftw3-double3_3.3.8-2ubuntu8_amd64.deb ...\n",
            "Unpacking libfftw3-double3:amd64 (3.3.8-2ubuntu8) ...\n",
            "Preparing to unpack .../17-librubberband2_3.3.0+dfsg-1~22.04.sav0_amd64.deb ...\n",
            "Unpacking librubberband2:amd64 (3.3.0+dfsg-1~22.04.sav0) over (2.0.0-2) ...\n",
            "Selecting previously unselected package libsrt1.5-gnutls:amd64.\n",
            "Preparing to unpack .../18-libsrt1.5-gnutls_1.5.3-0ubuntu1~22.04.sav0_amd64.deb ...\n",
            "Unpacking libsrt1.5-gnutls:amd64 (1.5.3-0ubuntu1~22.04.sav0) ...\n",
            "Selecting previously unselected package libcodec2-1.2:amd64.\n",
            "Preparing to unpack .../19-libcodec2-1.2_1.2.0-2~22.04.sav0_amd64.deb ...\n",
            "Unpacking libcodec2-1.2:amd64 (1.2.0-2~22.04.sav0) ...\n",
            "Preparing to unpack .../20-libsnappy1v5_1.1.10-1~22.04.sav0_amd64.deb ...\n",
            "Unpacking libsnappy1v5:amd64 (1.1.10-1~22.04.sav0) over (1.1.8-1build3) ...\n",
            "Selecting previously unselected package libvpx8:amd64.\n",
            "Preparing to unpack .../21-libvpx8_1.13.1-2~22.04.sav1_amd64.deb ...\n",
            "Unpacking libvpx8:amd64 (1.13.1-2~22.04.sav1) ...\n",
            "Preparing to unpack .../22-libwebp-dev_1.3.2-0.3~22.04.sav0_amd64.deb ...\n",
            "Unpacking libwebp-dev:amd64 (1.3.2-0.3~22.04.sav0) over (1.2.2-2ubuntu0.22.04.2) ...\n",
            "Preparing to unpack .../23-libwebpdemux2_1.3.2-0.3~22.04.sav0_amd64.deb ...\n",
            "Unpacking libwebpdemux2:amd64 (1.3.2-0.3~22.04.sav0) over (1.2.2-2ubuntu0.22.04.2) ...\n",
            "Preparing to unpack .../24-libwebpmux3_1.3.2-0.3~22.04.sav0_amd64.deb ...\n",
            "Unpacking libwebpmux3:amd64 (1.3.2-0.3~22.04.sav0) over (1.2.2-2ubuntu0.22.04.2) ...\n",
            "Selecting previously unselected package libwebpdecoder3:amd64.\n",
            "Preparing to unpack .../25-libwebpdecoder3_1.3.2-0.3~22.04.sav0_amd64.deb ...\n",
            "Unpacking libwebpdecoder3:amd64 (1.3.2-0.3~22.04.sav0) ...\n",
            "Selecting previously unselected package libsharpyuv0:amd64.\n",
            "Preparing to unpack .../26-libsharpyuv0_1.3.2-0.3~22.04.sav0_amd64.deb ...\n",
            "Unpacking libsharpyuv0:amd64 (1.3.2-0.3~22.04.sav0) ...\n",
            "Selecting previously unselected package libsharpyuv-dev:amd64.\n",
            "Preparing to unpack .../27-libsharpyuv-dev_1.3.2-0.3~22.04.sav0_amd64.deb ...\n",
            "Unpacking libsharpyuv-dev:amd64 (1.3.2-0.3~22.04.sav0) ...\n",
            "Preparing to unpack .../28-libwebp7_1.3.2-0.3~22.04.sav0_amd64.deb ...\n",
            "Unpacking libwebp7:amd64 (1.3.2-0.3~22.04.sav0) over (1.2.2-2ubuntu0.22.04.2) ...\n",
            "Selecting previously unselected package libx264-164:amd64.\n",
            "Preparing to unpack .../29-libx264-164_2%3a0.164.3153+git5f84d40-0ubuntu1~22.04.sav0_amd64.deb ...\n",
            "Unpacking libx264-164:amd64 (2:0.164.3153+git5f84d40-0ubuntu1~22.04.sav0) ...\n",
            "Setting up libsharpyuv0:amd64 (1.3.2-0.3~22.04.sav0) ...\n",
            "Setting up libx264-164:amd64 (2:0.164.3153+git5f84d40-0ubuntu1~22.04.sav0) ...\n",
            "Setting up libcodec2-1.2:amd64 (1.2.0-2~22.04.sav0) ...\n",
            "Setting up libwebpdecoder3:amd64 (1.3.2-0.3~22.04.sav0) ...\n",
            "Setting up libavutil56:amd64 (7:4.4.4-0ubuntu1~22.04.sav1.1) ...\n",
            "Setting up libsnappy1v5:amd64 (1.1.10-1~22.04.sav0) ...\n",
            "Setting up libpostproc55:amd64 (7:4.4.4-0ubuntu1~22.04.sav1.1) ...\n",
            "Setting up libvpx8:amd64 (1.13.1-2~22.04.sav1) ...\n",
            "Setting up libfftw3-double3:amd64 (3.3.8-2ubuntu8) ...\n",
            "Setting up libwebp7:amd64 (1.3.2-0.3~22.04.sav0) ...\n",
            "Setting up librubberband2:amd64 (3.3.0+dfsg-1~22.04.sav0) ...\n",
            "Setting up libsrt1.5-gnutls:amd64 (1.5.3-0ubuntu1~22.04.sav0) ...\n",
            "Setting up libswscale5:amd64 (7:4.4.4-0ubuntu1~22.04.sav1.1) ...\n",
            "Setting up libsndio7:amd64 (1.9.0-0.3~22.04.sav0) ...\n",
            "Setting up libsharpyuv-dev:amd64 (1.3.2-0.3~22.04.sav0) ...\n",
            "Setting up libwebpmux3:amd64 (1.3.2-0.3~22.04.sav0) ...\n",
            "Setting up libavutil-dev:amd64 (7:4.4.4-0ubuntu1~22.04.sav1.1) ...\n",
            "Setting up libwebpdemux2:amd64 (1.3.2-0.3~22.04.sav0) ...\n",
            "Setting up libswresample3:amd64 (7:4.4.4-0ubuntu1~22.04.sav1.1) ...\n",
            "Setting up libwebp-dev:amd64 (1.3.2-0.3~22.04.sav0) ...\n",
            "Setting up libswscale-dev:amd64 (7:4.4.4-0ubuntu1~22.04.sav1.1) ...\n",
            "Setting up libsndio7.0:amd64 (1.9.0-0.3~22.04.sav0) ...\n",
            "Setting up libavcodec58:amd64 (7:4.4.4-0ubuntu1~22.04.sav1.1) ...\n",
            "Setting up libswresample-dev:amd64 (7:4.4.4-0ubuntu1~22.04.sav1.1) ...\n",
            "Setting up libavformat58:amd64 (7:4.4.4-0ubuntu1~22.04.sav1.1) ...\n",
            "Setting up libavcodec-dev:amd64 (7:4.4.4-0ubuntu1~22.04.sav1.1) ...\n",
            "Setting up libavformat-dev:amd64 (7:4.4.4-0ubuntu1~22.04.sav1.1) ...\n",
            "Setting up libavfilter7:amd64 (7:4.4.4-0ubuntu1~22.04.sav1.1) ...\n",
            "Setting up libavdevice58:amd64 (7:4.4.4-0ubuntu1~22.04.sav1.1) ...\n",
            "Setting up ffmpeg (7:4.4.4-0ubuntu1~22.04.sav1.1) ...\n",
            "Processing triggers for man-db (2.10.2-1) ...\n",
            "Processing triggers for libc-bin (2.35-0ubuntu3.4) ...\n",
            "/sbin/ldconfig.real: /usr/local/lib/libtbbmalloc_proxy.so.2 is not a symbolic link\n",
            "\n",
            "/sbin/ldconfig.real: /usr/local/lib/libtbbbind.so.3 is not a symbolic link\n",
            "\n",
            "/sbin/ldconfig.real: /usr/local/lib/libtbbmalloc.so.2 is not a symbolic link\n",
            "\n",
            "/sbin/ldconfig.real: /usr/local/lib/libtbb.so.12 is not a symbolic link\n",
            "\n",
            "/sbin/ldconfig.real: /usr/local/lib/libtbbbind_2_5.so.3 is not a symbolic link\n",
            "\n",
            "/sbin/ldconfig.real: /usr/local/lib/libtbbbind_2_0.so.3 is not a symbolic link\n",
            "\n"
          ]
        }
      ]
    },
    {
      "cell_type": "code",
      "execution_count": null,
      "metadata": {
        "colab": {
          "base_uri": "https://localhost:8080/"
        },
        "id": "7AUqDjslHSmG",
        "outputId": "a3fd71f1-5817-48ac-f318-0878952da133"
      },
      "outputs": [
        {
          "output_type": "stream",
          "name": "stdout",
          "text": [
            "Drive already mounted at /content/drive; to attempt to forcibly remount, call drive.mount(\"/content/drive\", force_remount=True).\n"
          ]
        }
      ],
      "source": [
        "from google.colab import drive\n",
        "drive.mount('/content/drive')"
      ]
    },
    {
      "cell_type": "markdown",
      "source": [
        "# Set class labels, load opencv Haascascade frontalface classifier and Human emotion detection model that i have trained."
      ],
      "metadata": {
        "id": "_zQfOPsiZ_1p"
      }
    },
    {
      "cell_type": "code",
      "execution_count": null,
      "metadata": {
        "id": "8mU-epv7CeaT"
      },
      "outputs": [],
      "source": [
        "class_labels=['Angry', 'disgusted', 'fearful', 'Happy','Neutral','Sad','Surprise']\n",
        "\n",
        "face_cascade = cv2.CascadeClassifier(cv2.samples.findFile(cv2.data.haarcascades + 'haarcascade_frontalface_default.xml'))\n",
        "\n",
        "classifier = load_model(\"/content/drive/MyDrive/checkpoint/model.keras\")"
      ]
    },
    {
      "cell_type": "markdown",
      "source": [
        "# Get height & width of output file and create object of videowriter to save predictions in an output file."
      ],
      "metadata": {
        "id": "iTuu1ImybBZz"
      }
    },
    {
      "cell_type": "code",
      "source": [
        "Height=int(cap.get(3))\n",
        "Width=int(cap.get(4))\n",
        "frame_size= (Height, Width)\n",
        "\n",
        "fourcc = cv2.VideoWriter_fourcc('F','M','P','4')\n",
        "output = cv2.VideoWriter('/content/drive/MyDrive/Emotion_capture/emotion_detection.mp4', fourcc, 20, frame_size)"
      ],
      "metadata": {
        "id": "u3GUv4jIa_-n"
      },
      "execution_count": null,
      "outputs": []
    },
    {
      "cell_type": "markdown",
      "source": [
        "# Prediction:\n",
        "\n",
        "Reading video input file using videocapture object.\n",
        "\n",
        "Passing the video frame to Haarcascade classifier's detectMultiScale function to detect faces.\n",
        "\n",
        "Then converting frame from BGR to RGB mode as opencv reads image in BGR mode.\n",
        "\n",
        "Looping over detected faces to detect emotions."
      ],
      "metadata": {
        "id": "Tq7-Qpo1bYlP"
      }
    },
    {
      "cell_type": "code",
      "execution_count": null,
      "metadata": {
        "id": "0s6uWMRZCeee"
      },
      "outputs": [],
      "source": [
        "while cap.isOpened():\n",
        "  ret, img = cap.read()\n",
        "  #print(np.shape(img))\n",
        "\n",
        "\n",
        "  if np.shape(img) == (): # If video frame is empty then break the loop\n",
        "    break\n",
        "\n",
        "\n",
        "\n",
        "  faces = face_cascade.detectMultiScale(img, scaleFactor = 1.1, minNeighbors = 6, minSize =(60, 60),flags= cv2.CASCADE_SCALE_IMAGE)\n",
        "\n",
        "  rgb = cv2.cvtColor(img, cv2.COLOR_BGR2RGB)\n",
        "  #cv2_imshow(img)\n",
        "\n",
        "\n",
        "  for (x,y,w,h) in faces: # Iterrate over detected faces from video frame\n",
        "      img = cv2.rectangle(img,(x,y),(x+w,y+h),(255,0,0),2) # Drwa rectangle over detcted faces\n",
        "      #cv2_imshow(rgb)\n",
        "      roi_rgb=rgb[y:y+h,x:x+w] # Selecting 'Region of Interest' from image\n",
        "      roi_rgb=cv2.resize(roi_rgb,(255,255),interpolation=cv2.INTER_NEAREST) # resize video frame to desired input size of model\n",
        "      if np.sum([roi_rgb])!=0:\n",
        "        roi=img_to_array(roi_rgb) # converting image to array\n",
        "        #roi=roi.astype('float')/255.0\n",
        "        roi=np.expand_dims(roi,axis=0)# expand dimension of input array\n",
        "        preds=classifier.predict(roi)[0]  # predict human emotion\n",
        "        label=class_labels[preds.argmax()] # assign predicted label\n",
        "        label_position=(x,y)\n",
        "        cv2.putText(img,label,label_position,cv2.FONT_HERSHEY_SIMPLEX,1,(0,255,0),3)\n",
        "      else:\n",
        "        cv2.putText(img,'No Face Found',(20,20),cv2.FONT_HERSHEY_SIMPLEX,2,(0,255,0),3)\n",
        "\n",
        "\n",
        "      cv2_imshow(img)\n",
        "      output.write(img)\n",
        "\n",
        "      if cv2.waitKey(40) == 27:\n",
        "          break\n",
        "\n",
        "cv2.destroyAllWindows()\n",
        "cap.release()\n",
        "\n"
      ]
    }
  ],
  "metadata": {
    "colab": {
      "provenance": []
    },
    "kernelspec": {
      "display_name": "Python 3",
      "name": "python3"
    },
    "language_info": {
      "name": "python"
    }
  },
  "nbformat": 4,
  "nbformat_minor": 0
}