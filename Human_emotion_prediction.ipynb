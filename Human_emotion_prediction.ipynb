{
  "cells": [
    {
      "cell_type": "code",
      "execution_count": null,
      "metadata": {
        "id": "f6NnctX-b7Zv"
      },
      "outputs": [],
      "source": [
        "from tensorflow.python import keras\n",
        "from keras.models import load_model\n",
        "from keras.preprocessing.image import img_to_array\n",
        "from google.colab.patches import cv2_imshow # for colab\n",
        "from keras.preprocessing import image\n",
        "import cv2\n",
        "import matplotlib.pyplot as plt\n",
        "import numpy as np\n",
        "import PIL\n",
        "\n",
        "\n",
        "height = 768\n",
        "width = 576\n",
        "\n",
        "cap = cv2.VideoCapture('/content/drive/MyDrive/checkpoint/Emotion.mp4')\n",
        "#cap = cv2.VideoWriter('output.avi', cv.VideoWriter_fourcc(*'XVID'), 25, (320,240))\n",
        "\n",
        "cap.set(cv2.CAP_PROP_FRAME_HEIGHT, height)\n",
        "cap.set(cv2.CAP_PROP_FRAME_WIDTH, width)\n",
        "\n",
        "\n",
        "\n",
        "\n"
      ]
    },
    {
      "cell_type": "code",
      "source": [
        "! add-apt-repository -y ppa:savoury1/ffmpeg4\n",
        "! apt-get -qq install -y ffmpeg"
      ],
      "metadata": {
        "id": "PhQajbWJQ4Sc"
      },
      "execution_count": null,
      "outputs": []
    },
    {
      "cell_type": "code",
      "execution_count": null,
      "metadata": {
        "id": "7AUqDjslHSmG"
      },
      "outputs": [],
      "source": [
        "from google.colab import drive\n",
        "drive.mount('/content/drive')"
      ]
    },
    {
      "cell_type": "code",
      "execution_count": null,
      "metadata": {
        "id": "8mU-epv7CeaT"
      },
      "outputs": [],
      "source": [
        "class_labels=['Angry', 'disgusted', 'fearful', 'Happy','Neutral','Sad','Surprise']\n",
        "\n",
        "face_cascade = cv2.CascadeClassifier(cv2.samples.findFile(cv2.data.haarcascades + 'haarcascade_frontalface_default.xml'))\n",
        "\n",
        "classifier = load_model(\"/content/drive/MyDrive/checkpoint/model.keras\")"
      ]
    },
    {
      "cell_type": "code",
      "execution_count": null,
      "metadata": {
        "id": "0s6uWMRZCeee"
      },
      "outputs": [],
      "source": [
        "\n",
        "Height=int(cap.get(3))\n",
        "Width=int(cap.get(4))\n",
        "frame_size= (Height, Width)\n",
        "\n",
        "fourcc = cv2.VideoWriter_fourcc(*'XVID')\n",
        "output = cv2.VideoWriter('/content/drive/MyDrive/Emotion_capture/emotion_detection.avi', fourcc, 20, frame_size)\n",
        "\n",
        "\n",
        "while cap.isOpened():\n",
        "  ret, img = cap.read()\n",
        "  #print(np.shape(img))\n",
        "\n",
        "\n",
        "  if np.shape(img) == ():\n",
        "    break\n",
        "\n",
        "\n",
        "  #gray= cv2.cvtColor(img, cv2.COLOR_BGR2GRAY)\n",
        "  #dilatekernel = np.ones((5, 5), 'uint8')\n",
        "  #watermark = cv2.dilate(gray, dilatekernel)\n",
        "  #op = cv2.inpaint(img, watermark, 3, flags=cv2.INPAINT_NS)\n",
        "\n",
        "  #cv2_imshow(watermark)\n",
        "\n",
        "  #img = cv2.imread(\"C:/Users/serge/Downloads/burn/gov.jpg\")\n",
        "\n",
        "  alpha = 2.596594846224838\n",
        "  beta = -161\n",
        "\n",
        "\n",
        "\n",
        "  #print(alpha, beta)\n",
        "  #cv2_imshow(img)\n",
        "  #plt.title('my picture')\n",
        "  #plt.show()\n",
        "  #cv2.imwrite(\"cleaned.png\", new)\n",
        "\n",
        "\n",
        "  faces = face_cascade.detectMultiScale(img, scaleFactor = 1.1, minNeighbors = 6, minSize =(60, 60),flags= cv2.CASCADE_SCALE_IMAGE)\n",
        "\n",
        "  rgb = cv2.cvtColor(img, cv2.COLOR_BGR2RGB)\n",
        "  #cv2_imshow(img)\n",
        "\n",
        "\n",
        "  for (x,y,w,h) in faces:\n",
        "      img = cv2.rectangle(img,(x,y),(x+w,y+h),(255,0,0),2)\n",
        "      #cv2_imshow(rgb)\n",
        "      roi_rgb=rgb[y:y+h,x:x+w]\n",
        "      roi_rgb=cv2.resize(roi_rgb,(255,255),interpolation=cv2.INTER_NEAREST)\n",
        "      if np.sum([roi_rgb])!=0:\n",
        "        roi=img_to_array(roi_rgb)\n",
        "        #roi=roi.astype('float')/255.0\n",
        "        roi=np.expand_dims(roi,axis=0)\n",
        "        preds=classifier.predict(roi)[0]\n",
        "        label=class_labels[preds.argmax()]\n",
        "        label_position=(x,y)\n",
        "        cv2.putText(img,label,label_position,cv2.FONT_HERSHEY_SIMPLEX,1,(0,255,0),3)\n",
        "      else:\n",
        "        cv2.putText(img,'No Face Found',(20,20),cv2.FONT_HERSHEY_SIMPLEX,2,(0,255,0),3)\n",
        "\n",
        "\n",
        "      cv2_imshow(img)\n",
        "      output.write(img)\n",
        "\n",
        "      if cv2.waitKey(40) == 27:\n",
        "          break\n",
        "\n",
        "cv2.destroyAllWindows()\n",
        "cap.release()\n",
        "\n"
      ]
    },
    {
      "cell_type": "code",
      "execution_count": null,
      "metadata": {
        "id": "LEFYLgfVCeiE"
      },
      "outputs": [],
      "source": []
    }
  ],
  "metadata": {
    "colab": {
      "provenance": []
    },
    "kernelspec": {
      "display_name": "Python 3",
      "name": "python3"
    },
    "language_info": {
      "name": "python"
    }
  },
  "nbformat": 4,
  "nbformat_minor": 0
}